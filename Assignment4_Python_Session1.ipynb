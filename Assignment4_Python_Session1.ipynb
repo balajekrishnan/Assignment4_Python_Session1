{
 "cells": [
  {
   "cell_type": "code",
   "execution_count": 1,
   "metadata": {},
   "outputs": [
    {
     "name": "stdout",
     "output_type": "stream",
     "text": [
      "Radius :  6.0\n",
      "Volume of Sphere:  904.3199999999999\n"
     ]
    }
   ],
   "source": [
    "pi = 3.14\n",
    "d = 12.0\n",
    "r = d/2\n",
    "print(\"Radius : \", r)\n",
    "r_cube = r*r*r\n",
    "\n",
    "V = ((4.0/3.0)*pi*r_cube)\n",
    "\n",
    "print(\"Volume of Sphere: \", V)"
   ]
  },
  {
   "cell_type": "code",
   "execution_count": null,
   "metadata": {},
   "outputs": [],
   "source": []
  }
 ],
 "metadata": {
  "kernelspec": {
   "display_name": "Python 3",
   "language": "python",
   "name": "python3"
  },
  "language_info": {
   "codemirror_mode": {
    "name": "ipython",
    "version": 3
   },
   "file_extension": ".py",
   "mimetype": "text/x-python",
   "name": "python",
   "nbconvert_exporter": "python",
   "pygments_lexer": "ipython3",
   "version": "3.6.4"
  }
 },
 "nbformat": 4,
 "nbformat_minor": 2
}
